{
 "cells": [
  {
   "cell_type": "code",
   "execution_count": 13,
   "metadata": {},
   "outputs": [
    {
     "name": "stdout",
     "output_type": "stream",
     "text": [
      "Average Standard Deviation of Original Images: 78.8948364630296\n"
     ]
    }
   ],
   "source": [
    "import cv2\n",
    "import os\n",
    "import numpy as np\n",
    "\n",
    "def calculate_std_dev(directory):\n",
    "    std_devs = []\n",
    "    for filename in os.listdir(directory):\n",
    "        if filename.endswith(('.png', '.jpg', '.jpeg')):  # 检查文件扩展名\n",
    "            file_path = os.path.join(directory, filename)\n",
    "            image = cv2.imread(file_path, cv2.IMREAD_GRAYSCALE)  # 以灰度模式读取图像\n",
    "\n",
    "            # 计算像素值的标准差并添加到列表中\n",
    "            std_dev = np.std(image)\n",
    "            std_devs.append(std_dev)\n",
    "\n",
    "    # 计算所有图像的标准差平均值\n",
    "    if std_devs:\n",
    "        return max(std_devs)\n",
    "    else:\n",
    "        return None\n",
    "\n",
    "# 使用示例\n",
    "directory = '/Users/llc/Downloads/chest_xray/test/PNEUMONIA'  # 替换为您的原始图像文件夹路径\n",
    "average_std_dev = calculate_std_dev(directory)\n",
    "print(f\"Average Standard Deviation of Original Images: {average_std_dev}\")\n",
    "\n"
   ]
  },
  {
   "cell_type": "code",
   "execution_count": 17,
   "metadata": {},
   "outputs": [
    {
     "name": "stdout",
     "output_type": "stream",
     "text": [
      "Removing Final result_9_4.png, Standard Deviation: 120.16454047344652\n",
      "Removing Final result_7_8.png, Standard Deviation: 116.44942670170154\n",
      "Removing Final result_10_8.png, Standard Deviation: 103.84565760786249\n",
      "Removing Final result_9_1.png, Standard Deviation: 100.94608533568253\n",
      "Removing Final result_1_8.png, Standard Deviation: 95.25078655181771\n",
      "Removing Final result_8_7.png, Standard Deviation: 98.02287562270803\n",
      "Removing Final result_6_8.png, Standard Deviation: 95.77613954086766\n",
      "Removing Final result_15_9.png, Standard Deviation: 109.54263635550363\n",
      "Removing Final result_15_8.png, Standard Deviation: 108.09271595861522\n",
      "Removing Final result_6_9.png, Standard Deviation: 118.0839731607279\n",
      "Removing Final result_8_4.png, Standard Deviation: 98.81410688683846\n",
      "Removing Final result_0_8.png, Standard Deviation: 95.5233481628416\n",
      "Removing Final result_0_9.png, Standard Deviation: 96.08630629728526\n",
      "Removing Final result_11_4.png, Standard Deviation: 103.88985718279024\n",
      "Removing Final result_2_5.png, Standard Deviation: 105.8168039776443\n",
      "Removing Final result_13_6.png, Standard Deviation: 109.93492495471467\n",
      "Removing Final result_15_0.png, Standard Deviation: 106.00288284440907\n",
      "Removing Final result_6_1.png, Standard Deviation: 119.22098001696656\n",
      "Removing Final result_4_3.png, Standard Deviation: 116.18296599100245\n",
      "Removing Final result_6_0.png, Standard Deviation: 94.13466092281128\n",
      "Removing Final result_15_1.png, Standard Deviation: 106.82927022381217\n",
      "Removing Final result_13_7.png, Standard Deviation: 104.87332842778225\n",
      "Removing Final result_2_4.png, Standard Deviation: 117.15446901858567\n",
      "Removing Final result_11_5.png, Standard Deviation: 93.77128642193745\n",
      "Removing Final result_0_4.png, Standard Deviation: 116.02382067538689\n",
      "Removing Final result_4_0.png, Standard Deviation: 118.81868962362556\n",
      "Removing Final result_6_3.png, Standard Deviation: 117.70298313430547\n",
      "Removing Final result_2_7.png, Standard Deviation: 110.24831943457608\n",
      "Removing Final result_11_6.png, Standard Deviation: 116.65635204109637\n",
      "Removing Final result_2_3.png, Standard Deviation: 101.31315646778026\n",
      "Removing Final result_0_1.png, Standard Deviation: 108.18347753938083\n",
      "Removing Final result_4_5.png, Standard Deviation: 112.38460472132797\n",
      "Removing Final result_4_4.png, Standard Deviation: 99.38124882855773\n",
      "Removing Final result_6_6.png, Standard Deviation: 109.15301812715823\n",
      "Removing Final result_0_2.png, Standard Deviation: 101.24438497225798\n",
      "Removing Final result_13_3.png, Standard Deviation: 113.3994480641251\n",
      "Removing Final result_6_4.png, Standard Deviation: 107.1029602830193\n",
      "Removing Final result_15_5.png, Standard Deviation: 116.3841691237711\n",
      "Removing Final result_4_7.png, Standard Deviation: 116.58450101690633\n",
      "Removing Final result_11_0.png, Standard Deviation: 107.99809859344089\n",
      "Removing Final result_2_1.png, Standard Deviation: 95.21863881787735\n",
      "Removing Final result_7_2.png, Standard Deviation: 105.31575239117151\n",
      "Removing Final result_12_5.png, Standard Deviation: 116.13493170008717\n",
      "Removing Final result_3_6.png, Standard Deviation: 105.98052802683159\n",
      "Removing Final result_10_6.png, Standard Deviation: 118.89879633367765\n",
      "Removing Final result_7_3.png, Standard Deviation: 116.00179281691216\n",
      "Removing Final result_14_2.png, Standard Deviation: 108.21262116095099\n",
      "Removing Final result_3_5.png, Standard Deviation: 106.28921284040803\n",
      "Removing Final result_10_5.png, Standard Deviation: 114.42815076587274\n",
      "Removing Final result_12_7.png, Standard Deviation: 94.22560583707339\n",
      "Removing Final result_14_1.png, Standard Deviation: 107.89264801760746\n",
      "Removing Final result_5_2.png, Standard Deviation: 97.99949032143594\n",
      "Removing Final result_1_2.png, Standard Deviation: 116.71823703658596\n",
      "Removing Final result_10_1.png, Standard Deviation: 98.78032404495578\n",
      "Removing Final result_10_0.png, Standard Deviation: 106.35108879064374\n",
      "Removing Final result_12_2.png, Standard Deviation: 112.9869392582224\n",
      "Removing Final result_5_7.png, Standard Deviation: 107.32392308973819\n",
      "Removing Final result_9_8.png, Standard Deviation: 108.21651171566583\n",
      "Removing Final result_14_6.png, Standard Deviation: 99.39170833971617\n",
      "Removing Final result_1_1.png, Standard Deviation: 96.89471064238745\n",
      "Removing Final result_12_0.png, Standard Deviation: 111.0094015040956\n",
      "Removing Final result_3_3.png, Standard Deviation: 114.96212546579969\n",
      "Removing Final result_3_2.png, Standard Deviation: 111.69625873978141\n",
      "Removing Final result_14_7.png, Standard Deviation: 96.32207938393564\n",
      "Removing Final result_9_9.png, Standard Deviation: 107.61334588082273\n"
     ]
    }
   ],
   "source": [
    "import cv2\n",
    "import os\n",
    "import numpy as np\n",
    "\n",
    "def filter_images(directory, threshold):\n",
    "    for filename in os.listdir(directory):\n",
    "        if filename.endswith(('.png', '.jpg', '.jpeg')):  # 检查文件扩展名\n",
    "            file_path = os.path.join(directory, filename)\n",
    "            image = cv2.imread(file_path, cv2.IMREAD_GRAYSCALE)  # 以灰度模式读取图像\n",
    "\n",
    "            # 计算像素值的标准差\n",
    "            std_dev = np.std(image)\n",
    "\n",
    "            # 如果标准差低于阈值，则删除该图像\n",
    "            if std_dev > threshold:\n",
    "                print(f\"Removing {filename}, Standard Deviation: {std_dev}\")\n",
    "                os.remove(file_path)\n",
    "\n",
    "# 使用示例\n",
    "directory = '/Users/llc/Downloads/chest_resulttest/1'  # 替换为您的图像文件夹路径\n",
    "threshold = 93  # 标准差阈值，可以根据需要调整\n",
    "filter_images(directory, threshold)\n"
   ]
  },
  {
   "cell_type": "code",
   "execution_count": 18,
   "metadata": {},
   "outputs": [
    {
     "name": "stdout",
     "output_type": "stream",
     "text": [
      "There are 95 images in the folder.\n"
     ]
    }
   ],
   "source": [
    "import os\n",
    "\n",
    "def count_images(directory):\n",
    "    \"\"\"\n",
    "    计算指定文件夹内的图像数量。\n",
    "\n",
    "    :param directory: 包含图像的文件夹路径\n",
    "    :return: 图像的数量\n",
    "    \"\"\"\n",
    "    image_extensions = ['.png', '.jpg', '.jpeg', '.bmp', '.gif', '.tiff']  # 支持的图像格式列表\n",
    "    image_count = 0\n",
    "\n",
    "    for filename in os.listdir(directory):\n",
    "        if any(filename.lower().endswith(ext) for ext in image_extensions):\n",
    "            image_count += 1\n",
    "\n",
    "    return image_count\n",
    "\n",
    "# 使用示例\n",
    "directory = '/Users/llc/Downloads/chest_resulttest/1'  # 替换为您的图像文件夹路径\n",
    "num_images = count_images(directory)\n",
    "print(f\"There are {num_images} images in the folder.\")\n"
   ]
  },
  {
   "cell_type": "code",
   "execution_count": null,
   "metadata": {},
   "outputs": [],
   "source": []
  }
 ],
 "metadata": {
  "kernelspec": {
   "display_name": "god",
   "language": "python",
   "name": "python3"
  },
  "language_info": {
   "codemirror_mode": {
    "name": "ipython",
    "version": 3
   },
   "file_extension": ".py",
   "mimetype": "text/x-python",
   "name": "python",
   "nbconvert_exporter": "python",
   "pygments_lexer": "ipython3",
   "version": "3.8.18"
  }
 },
 "nbformat": 4,
 "nbformat_minor": 2
}
